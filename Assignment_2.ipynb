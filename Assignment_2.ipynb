{
 "cells": [
  {
   "cell_type": "markdown",
   "metadata": {},
   "source": [
    " TASK 1"
   ]
  },
  {
   "cell_type": "markdown",
   "metadata": {},
   "source": [
    "1.1   \n",
    "Write a Python Program to implement your own myreduce() function which works exactly like Python's\n",
    "built-in function reduce() "
   ]
  },
  {
   "cell_type": "code",
   "execution_count": 1,
   "metadata": {},
   "outputs": [
    {
     "name": "stdout",
     "output_type": "stream",
     "text": [
      "abcdef\n"
     ]
    }
   ],
   "source": [
    "#for summation/concatination operation only\n",
    "def myreduce(lst):\n",
    "    \n",
    "    if type(lst[0]) is int:\n",
    "            try:\n",
    "                print(sum(lst))\n",
    "            except:\n",
    "                print(\"Hetrogenous list\")\n",
    "    \n",
    "    elif type(lst[0]) is str:\n",
    "        try:\n",
    "            print(\"\".join(lst[:]))\n",
    "        except:\n",
    "            print(\"Hetrogenous list\")\n",
    "lst=['a','b','c','d','e','f']\n",
    "myreduce(lst)"
   ]
  },
  {
   "cell_type": "markdown",
   "metadata": {},
   "source": [
    "1.2   \n",
    "Write a Python program to implement your own myfilter() function which works exactly like Python's\n",
    "built-in function filter() "
   ]
  },
  {
   "cell_type": "code",
   "execution_count": 2,
   "metadata": {},
   "outputs": [
    {
     "name": "stdout",
     "output_type": "stream",
     "text": [
      "[52, 48, 14, 12, 96, 32, 10]\n"
     ]
    }
   ],
   "source": [
    "lst=[11,52,48,14,75,12,96,32,10]\n",
    "lst2=[]\n",
    "def even_check(num):\n",
    "    for i in range(len(num)):\n",
    "        \n",
    "        if int(num[i])%2 ==0:\n",
    "             lst2.append(num[i])\n",
    "    print(lst2)        \n",
    "even_check(lst)"
   ]
  },
  {
   "cell_type": "markdown",
   "metadata": {},
   "source": [
    "2.   \n",
    "Implement List comprehensions to produce the following lists.  \n",
    "Write List comprehensions to produce the following Lists  \n",
    "['A', 'C', 'A', 'D', 'G', 'I', ’L’, ‘ D’]  \n",
    "['x', 'xx', 'xxx', 'xxxx', 'y', 'yy', 'yyy', 'yyyy', 'z', 'zz', 'zzz', 'zzzz']  \n",
    "['x', 'y', 'z', 'xx', 'yy', 'zz', 'xx', 'yy', 'zz', 'xxxx', 'yyyy', 'zzzz']  \n",
    "[[2], [3], [4], [3], [4], [5], [4], [5], [6]]  \n",
    "[[2, 3, 4, 5], [3, 4, 5, 6], [4, 5, 6, 7], [5, 6, 7, 8]]  \n",
    "[(1, 1), (2, 1), (3, 1), (1, 2), (2, 2), (3, 2), (1, 3), (2, 3), (3, 3)] "
   ]
  },
  {
   "cell_type": "code",
   "execution_count": 2,
   "metadata": {},
   "outputs": [
    {
     "data": {
      "text/plain": [
       "['A', 'C', 'A', 'D', 'G', 'I', 'L', 'D', 'g']"
      ]
     },
     "execution_count": 2,
     "metadata": {},
     "output_type": "execute_result"
    }
   ],
   "source": [
    "#['A', 'C', 'A', 'D', 'G', 'I', ’L’, ‘ D’]\n",
    "alp='ACADGILD'\n",
    "def strr(alp):\n",
    "    return[x for x in alp]\n",
    "strr(alp)"
   ]
  },
  {
   "cell_type": "code",
   "execution_count": 3,
   "metadata": {},
   "outputs": [
    {
     "data": {
      "text/plain": [
       "['x', 'xx', 'xxx', 'xxxx', 'y', 'yy', 'yyy', 'yyyy', 'z', 'zz', 'zzz', 'zzzz']"
      ]
     },
     "execution_count": 3,
     "metadata": {},
     "output_type": "execute_result"
    }
   ],
   "source": [
    "#['x', 'xx', 'xxx', 'xxxx', 'y', 'yy', 'yyy', 'yyyy', 'z', 'zz', 'zzz', 'zzzz']\n",
    "alph=['x','y','z']\n",
    "def alpha(alph):\n",
    "    return[alph[x]*y for x in range(len(alph)) for y in range(1,5)]\n",
    "alpha(alph)"
   ]
  },
  {
   "cell_type": "code",
   "execution_count": 5,
   "metadata": {},
   "outputs": [
    {
     "data": {
      "text/plain": [
       "['x', 'y', 'z', 'xx', 'yy', 'zz', 'xx', 'yy', 'zz', 'xxxx', 'yyyy', 'zzzz']"
      ]
     },
     "execution_count": 5,
     "metadata": {},
     "output_type": "execute_result"
    }
   ],
   "source": [
    "#['x', 'y', 'z', 'xx', 'yy', 'zz', 'xx', 'yy', 'zz', 'xxxx', 'yyyy', 'zzzz']\n",
    "lab=['x','y','z']\n",
    "def label(lab):\n",
    "    return[lab[y]*x  for x in [1,2,2,4] for y in range(len(lab)) ]\n",
    "label(lab)"
   ]
  },
  {
   "cell_type": "code",
   "execution_count": 7,
   "metadata": {},
   "outputs": [
    {
     "data": {
      "text/plain": [
       "[[2], [3], [4], [3], [4], [5], [4], [5], [6]]"
      ]
     },
     "execution_count": 7,
     "metadata": {},
     "output_type": "execute_result"
    }
   ],
   "source": [
    "#[[2], [3], [4], [3], [4], [5], [4], [5], [6]] \n",
    "bet=[2,3,4,3,4,5,4,5,6]\n",
    "def beta(bet):\n",
    "    return[[bt]for bt in bet]\n",
    "beta(bet)"
   ]
  },
  {
   "cell_type": "code",
   "execution_count": 1,
   "metadata": {},
   "outputs": [
    {
     "data": {
      "text/plain": [
       "[[2, 3, 4, 5], [3, 4, 5, 6], [4, 5, 6, 7], [5, 6, 7, 8]]"
      ]
     },
     "execution_count": 1,
     "metadata": {},
     "output_type": "execute_result"
    }
   ],
   "source": [
    "#[[2, 3, 4, 5], [3, 4, 5, 6], [4, 5, 6, 7], [5, 6, 7, 8]]\n",
    "kite=[2,3,4,5,3,4,5,6,4,5,6,7,5,6,7,8]\n",
    "\n",
    "[kite[i:i+4] for i in range(0, len(kite), 4)]"
   ]
  },
  {
   "cell_type": "code",
   "execution_count": 6,
   "metadata": {},
   "outputs": [
    {
     "data": {
      "text/plain": [
       "[(1, 1), (2, 1), (3, 1), (1, 2), (2, 2), (3, 2), (1, 3), (2, 3), (3, 3)]"
      ]
     },
     "execution_count": 6,
     "metadata": {},
     "output_type": "execute_result"
    }
   ],
   "source": [
    "#[(1, 1), (2, 1), (3, 1), (1, 2), (2, 2), (3, 2), (1, 3), (2, 3), (3, 3)] \n",
    "cart=[1,2,3]\n",
    "def sett(cart):\n",
    "    return[(y,x)for x in cart  for y in cart ]\n",
    "sett(cart)"
   ]
  },
  {
   "cell_type": "markdown",
   "metadata": {},
   "source": [
    "3.   \n",
    "Implement a function longestWord() that takes a list of words and returns the longest one. "
   ]
  },
  {
   "cell_type": "code",
   "execution_count": 9,
   "metadata": {},
   "outputs": [
    {
     "name": "stdout",
     "output_type": "stream",
     "text": [
      "Word : match \n",
      "With Length : 5\n"
     ]
    }
   ],
   "source": [
    "def longestWord(word):\n",
    "        \n",
    "        result=[int(len(word[i])) for i in range(len(word))]\n",
    "        mx=max(result)\n",
    "        for i in range(len(word)):\n",
    "            if int(len(word[i]))==mx:\n",
    "                \n",
    "                txt = \"Word : {w} {n}With Length : {l}\".format(w = word[i],n='\\n', l = mx)\n",
    "                print(txt)\n",
    "            \n",
    "            else:\n",
    "                continue\n",
    "                \n",
    "   \n",
    "word=['cat','match','bat','rat','hell','tri']\n",
    "longestWord(word)"
   ]
  },
  {
   "cell_type": "markdown",
   "metadata": {},
   "source": [
    " TASK 2"
   ]
  },
  {
   "cell_type": "markdown",
   "metadata": {},
   "source": [
    "1.1   \n",
    "Write a Python Program(with class concepts) to find the area of the triangle using the below formula.  \n",
    "area = (s*(s-a)*(s-b)*(s-c)) ** 0.5  \n",
    "Function to take the length of the sides of triangle from user should be defined in the parent class \n",
    "and function to calculate the area should be defined in subclass"
   ]
  },
  {
   "cell_type": "code",
   "execution_count": 2,
   "metadata": {},
   "outputs": [
    {
     "name": "stdout",
     "output_type": "stream",
     "text": [
      "Enter the length of triangle :9\n",
      "Enter the breadth of triangle :8\n",
      "Enter the height of triangle :7\n",
      "Area of the triangle with given sides is : 26.83\n"
     ]
    }
   ],
   "source": [
    "class Parent:\n",
    "    def __init__(self):\n",
    "        self.a=int(input(\"Enter the length of triangle :\"))\n",
    "        self.b=int(input(\"Enter the breadth of triangle :\"))\n",
    "        self.c=int(input(\"Enter the height of triangle :\"))\n",
    "\n",
    "class Child(Parent): \n",
    "    \n",
    "        def Area(self):  \n",
    "            s=(self.a + self.b + self.c) / 2\n",
    "            area = (s*(s-self.a)*(s-self.b)*(s-self.c)) ** 0.5\n",
    "            print('Area of the triangle with given sides is : %0.2f' %area)\n",
    "       \n",
    "   \n",
    "obj=Child()\n",
    "obj.Area()"
   ]
  },
  {
   "cell_type": "markdown",
   "metadata": {},
   "source": [
    "1.2  \n",
    "Write a function filter_long_words() that takes a list of words and an integer n and returns the \n",
    "list of words that are longer than n. "
   ]
  },
  {
   "cell_type": "code",
   "execution_count": 6,
   "metadata": {},
   "outputs": [
    {
     "name": "stdout",
     "output_type": "stream",
     "text": [
      "Integer Value : 3\n"
     ]
    },
    {
     "data": {
      "text/plain": [
       "['match', 'hell']"
      ]
     },
     "execution_count": 6,
     "metadata": {},
     "output_type": "execute_result"
    }
   ],
   "source": [
    "def filter_long_words(word,num):\n",
    "    \n",
    "        w=[word[i] for i in range(len(word))if len(word[i])>num]\n",
    "        return w\n",
    "                \n",
    "num=int(input(\"Integer Value : \"))\n",
    "word=['cat','match','bat','rat','hell','tri']\n",
    "filter_long_words(word,num)"
   ]
  },
  {
   "cell_type": "markdown",
   "metadata": {},
   "source": [
    "2.1  \n",
    "Write a Python program using function concept that maps  list of words into a list of integers \n",
    "representing the lengths of the corresponding words​. \n",
    "Hint: ​If a list [ ab,cde,erty] is passed on to the python function output should come as [2,3,4]  \n",
    "       Here 2,3 and 4 are the lengths of the words in the list"
   ]
  },
  {
   "cell_type": "code",
   "execution_count": null,
   "metadata": {},
   "outputs": [],
   "source": [
    "def length(word):\n",
    "\n",
    "        result=[int(len(word[i])) for i in range(len(word))]\n",
    "        return result\n",
    "                \n",
    "word=['cat','match','bat','rat','hell','tri']\n",
    "length(word)"
   ]
  },
  {
   "cell_type": "markdown",
   "metadata": {},
   "source": [
    "2.2  \n",
    "Write a Python function which takes a character (i.e. a string of length 1) and returns True if it is a vowel,\n",
    "False otherwise"
   ]
  },
  {
   "cell_type": "code",
   "execution_count": 2,
   "metadata": {},
   "outputs": [
    {
     "name": "stdout",
     "output_type": "stream",
     "text": [
      "Input character :k\n"
     ]
    },
    {
     "data": {
      "text/plain": [
       "False"
      ]
     },
     "execution_count": 2,
     "metadata": {},
     "output_type": "execute_result"
    }
   ],
   "source": [
    "v=['A','a','E','e','I','i','O','o','U','u']\n",
    "def vowel(chr):\n",
    "    for i in range(len(v)):\n",
    "        if chr==v[i]:\n",
    "            return True\n",
    "        else:\n",
    "            return False\n",
    "    \n",
    "\n",
    "chr=input(\"Input character :\")\n",
    "vowel(chr)"
   ]
  },
  {
   "cell_type": "code",
   "execution_count": null,
   "metadata": {},
   "outputs": [],
   "source": []
  }
 ],
 "metadata": {
  "kernelspec": {
   "display_name": "Python 3",
   "language": "python",
   "name": "python3"
  },
  "language_info": {
   "codemirror_mode": {
    "name": "ipython",
    "version": 3
   },
   "file_extension": ".py",
   "mimetype": "text/x-python",
   "name": "python",
   "nbconvert_exporter": "python",
   "pygments_lexer": "ipython3",
   "version": "3.7.4"
  }
 },
 "nbformat": 4,
 "nbformat_minor": 2
}
