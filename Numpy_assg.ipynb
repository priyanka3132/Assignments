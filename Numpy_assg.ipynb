{
 "cells": [
  {
   "cell_type": "markdown",
   "metadata": {},
   "source": [
    "Q. Write a function so that the columns of the output matrix are powers of the input  vector.  \n",
    "The order of the powers is determined by the increasing boolean argument. Specifically, when increasing is False,\n",
    "the i-th output column is the input vector raised element-wise to the power of N - i - 1. \n",
    "\n",
    "HINT: Such a matrix with a geometric progression in each row is named for AlexandreTheophile Vandermonde. "
   ]
  },
  {
   "cell_type": "code",
   "execution_count": 2,
   "metadata": {},
   "outputs": [
    {
     "name": "stdout",
     "output_type": "stream",
     "text": [
      "Enter number of elements you want to enter in array: 4\n",
      "1\n",
      "2\n",
      "3\n",
      "4\n",
      "Enter the value of vector N :4\n",
      "Output Martix:\n",
      "[[ 1  1  1  1]\n",
      " [ 8  4  2  1]\n",
      " [27  9  3  1]\n",
      " [64 16  4  1]]\n"
     ]
    }
   ],
   "source": [
    "import numpy as np\n",
    "\n",
    "def vander_mat(x,N):\n",
    "    y=np.matrix([x**(N-1-i) for i in range(N)])\n",
    "    y=y.T\n",
    "    print(\"Output Martix:\")\n",
    "    print(y)\n",
    " \n",
    "lst=[]  \n",
    "n=int(input(\"Enter number of elements you want to enter in array: \")) \n",
    "for i in range(0, n): \n",
    "    e = int(input()) \n",
    "    lst.append(e)\n",
    "\n",
    "x=np.asarray(lst)\n",
    "N=int (input(\"Enter the value of vector N :\"))\n",
    "\n",
    "vander_mat(x,N)"
   ]
  },
  {
   "cell_type": "markdown",
   "metadata": {},
   "source": [
    "Q. Given a sequence of n values x1, x2, ..., xn and a window size k>0, the k-th moving average of the given \n",
    "sequence is defined as follows:  \n",
    "The moving average sequence has n-k+1 elements as shown below.  \n",
    "The moving averages with k=4 of a ten-value sequence (n=10) is shown below  \n",
    "i      1  2  3  4  5  6  7  8  9 10 \n",
    "===== == == == == == == == == == == \n",
    "Input 10 20 30 40 50 60 70 80 90 100  \n",
    "y1      25 = (10+20+30+40)/4  \n",
    "y2      35 = (20+30+40+50)/4  \n",
    "y3      45 = (30+40+50+60)/4  \n",
    "y4      55 = (40+50+60+70)/4 \n",
    "y5      65 = (50+60+70+80)/4 \n",
    "y6      75 = (60+70+80+90)/4 \n",
    "y7      85 = (70+80+90+100)/4   \n",
    "Thus, the moving average sequence has n-k+1=10-4+1=7 values. \n",
    "\n",
    "Question: Write a function to find moving average in an array over a window:\n",
    "          Test it over [3, 5, 7, 2, 8, 10, 11, 65, 72, 81, 99, 100, 150] and window of 3. "
   ]
  },
  {
   "cell_type": "code",
   "execution_count": 3,
   "metadata": {},
   "outputs": [
    {
     "name": "stdout",
     "output_type": "stream",
     "text": [
      "Y( 1 ): 5.00\n",
      "Y( 2 ): 4.67\n",
      "Y( 3 ): 5.67\n",
      "Y( 4 ): 6.67\n",
      "Y( 5 ): 9.67\n",
      "Y( 6 ): 28.67\n",
      "Y( 7 ): 49.33\n",
      "Y( 8 ): 72.67\n",
      "Y( 9 ): 84.00\n",
      "Y( 10 ): 93.33\n",
      "Y( 11 ): 116.33\n"
     ]
    }
   ],
   "source": [
    "import numpy as np\n",
    "\n",
    "def mov_avg(arr,k):\n",
    "    n=len(arr)\n",
    "    num=n-k+1 \n",
    "\n",
    "    for i in np.arange(num):\n",
    "        for j in arr:\n",
    "            u=arr[i:i+k]\n",
    "            avg=sum(u)/k\n",
    "        print(\"Y(\",i+1,\"):\",\"%.2f\"%avg)\n",
    "arr=np.asarray([3, 5, 7, 2, 8, 10, 11, 65, 72, 81, 99, 100, 150]) \n",
    "k=3  \n",
    "mov_avg(arr,k) \n",
    "    \n"
   ]
  },
  {
   "cell_type": "code",
   "execution_count": null,
   "metadata": {},
   "outputs": [],
   "source": []
  }
 ],
 "metadata": {
  "kernelspec": {
   "display_name": "Python 3",
   "language": "python",
   "name": "python3"
  },
  "language_info": {
   "codemirror_mode": {
    "name": "ipython",
    "version": 3
   },
   "file_extension": ".py",
   "mimetype": "text/x-python",
   "name": "python",
   "nbconvert_exporter": "python",
   "pygments_lexer": "ipython3",
   "version": "3.7.4"
  }
 },
 "nbformat": 4,
 "nbformat_minor": 2
}
