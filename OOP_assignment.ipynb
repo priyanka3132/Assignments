{
 "cells": [
  {
   "cell_type": "markdown",
   "metadata": {},
   "source": [
    "Q. create two class A & B and then create a method test() for both classes A & B . Then inherite\n",
    "both classes in class C. Both test() have different defnitions .Now call both the methods in class C\n",
    "seperately."
   ]
  },
  {
   "cell_type": "code",
   "execution_count": 3,
   "metadata": {},
   "outputs": [
    {
     "name": "stdout",
     "output_type": "stream",
     "text": [
      "Product :  30\n",
      "Summation :  11\n"
     ]
    }
   ],
   "source": [
    "class A:\n",
    "    def Test(var1,var2):\n",
    "        add=var1+var2\n",
    "        return add\n",
    "    \n",
    "class B:\n",
    "    def Test(num1,num2):\n",
    "        pro=num1*num2\n",
    "        return pro\n",
    "class C(A,B):\n",
    "       \n",
    "        print(\"Product : \",B.Test(5,6))\n",
    "        print(\"Summation : \",A.Test(5,6))\n"
   ]
  },
  {
   "cell_type": "code",
   "execution_count": null,
   "metadata": {},
   "outputs": [],
   "source": []
  }
 ],
 "metadata": {
  "kernelspec": {
   "display_name": "Python 3",
   "language": "python",
   "name": "python3"
  },
  "language_info": {
   "codemirror_mode": {
    "name": "ipython",
    "version": 3
   },
   "file_extension": ".py",
   "mimetype": "text/x-python",
   "name": "python",
   "nbconvert_exporter": "python",
   "pygments_lexer": "ipython3",
   "version": "3.7.4"
  }
 },
 "nbformat": 4,
 "nbformat_minor": 2
}
